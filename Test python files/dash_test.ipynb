{
 "cells": [
  {
   "cell_type": "code",
   "execution_count": 9,
   "metadata": {
    "pycharm": {
     "is_executing": true,
     "name": "#%%\n"
    }
   },
   "outputs": [
    {
     "name": "stdout",
     "output_type": "stream",
     "text": [
      "Dash app running on http://127.0.0.1:8090/\n"
     ]
    }
   ],
   "source": [
    "import pandas as pd\n",
    "import numpy as np\n",
    "import plotly.express as px\n",
    "import plotly.graph_objects as go\n",
    "from jupyter_dash import JupyterDash\n",
    "import dash_core_components as dcc\n",
    "import dash_html_components as html\n",
    "from dash.dependencies import Input, Output\n",
    "\n",
    "# code and plot setup\n",
    "# settings\n",
    "pd.options.plotting.backend = \"plotly\"\n",
    "\n",
    "# sample dataframe of a wide format\n",
    "np.random.seed(4); cols = list('abc')\n",
    "X = np.random.randn(50,len(cols))\n",
    "df=pd.DataFrame(X, columns=cols)\n",
    "df.iloc[0]=0;\n",
    "\n",
    "# plotly figure\n",
    "fig = df.plot(template = 'plotly_dark')\n",
    "\n",
    "app = JupyterDash(__name__)\n",
    "app.layout = html.Div([\n",
    "    html.H1(\"Random datastream\"),\n",
    "            dcc.Interval(\n",
    "            id='interval-component',\n",
    "            interval=1*1000, # in milliseconds\n",
    "            n_intervals=0\n",
    "        ),\n",
    "    dcc.Graph(id='graph'),\n",
    "])\n",
    "\n",
    "# Define callback to update graph\n",
    "@app.callback(\n",
    "    Output('graph', 'figure'),\n",
    "    [Input('interval-component', \"n_intervals\")]\n",
    ")\n",
    "\n",
    "\n",
    "def streamFig(value):\n",
    "    \"\"\"\n",
    "    This function streams the figure... somehow. Ipython and Jupyter use\n",
    "    magic so things just happen for no reason.\n",
    "    :param value: totally unknown\n",
    "    :return: not sure how this works.\n",
    "    \"\"\"\n",
    "\n",
    "    global df\n",
    "\n",
    "    y = np.random.randn(1,len(cols))\n",
    "    df2 = pd.DataFrame(y, columns = cols)\n",
    "    df = df.append(df2, ignore_index=True)#.reset_index()\n",
    "    df.tail()\n",
    "    df3=df.copy()\n",
    "    df3 = df3.cumsum()\n",
    "    fig = df3.plot(template = 'plotly_dark')\n",
    "    #fig.show()\n",
    "    return(fig)\n",
    "\n",
    "\n",
    "app.run_server(mode='external', port = 8090, dev_tools_ui=True, #debug=True,\n",
    "              dev_tools_hot_reload =True, threaded=True)"
   ]
  },
  {
   "cell_type": "code",
   "execution_count": null,
   "outputs": [],
   "source": [],
   "metadata": {
    "collapsed": false,
    "pycharm": {
     "name": "#%%\n"
    }
   }
  },
  {
   "cell_type": "code",
   "execution_count": null,
   "outputs": [],
   "source": [],
   "metadata": {
    "collapsed": false,
    "pycharm": {
     "name": "#%%\n"
    }
   }
  },
  {
   "cell_type": "code",
   "execution_count": null,
   "outputs": [],
   "source": [],
   "metadata": {
    "collapsed": false,
    "pycharm": {
     "name": "#%%\n"
    }
   }
  },
  {
   "cell_type": "code",
   "execution_count": null,
   "metadata": {},
   "outputs": [],
   "source": []
  },
  {
   "cell_type": "code",
   "execution_count": null,
   "metadata": {},
   "outputs": [],
   "source": []
  },
  {
   "cell_type": "code",
   "execution_count": null,
   "metadata": {},
   "outputs": [],
   "source": []
  }
 ],
 "metadata": {
  "kernelspec": {
   "display_name": "Python 3",
   "language": "python",
   "name": "python3"
  },
  "language_info": {
   "codemirror_mode": {
    "name": "ipython",
    "version": 3
   },
   "file_extension": ".py",
   "mimetype": "text/x-python",
   "name": "python",
   "nbconvert_exporter": "python",
   "pygments_lexer": "ipython3",
   "version": "3.8.11"
  }
 },
 "nbformat": 4,
 "nbformat_minor": 1
}